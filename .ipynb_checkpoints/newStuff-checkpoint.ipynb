{
 "cells": [
  {
   "cell_type": "code",
   "execution_count": null,
   "metadata": {},
   "outputs": [],
   "source": [
    "hours = input(\"How many hours do you work?\")\n",
    "wage = input(\"What's your hourly wage?\")\n",
    "percent = input(\"What percent of your income goes to pay your taxes?\")\n",
    "\n",
    "hours = int(hours)\n",
    "wage = int(wage)\n",
    "percent = int(percent)\n",
    "p = percent * 0.01\n",
    "\n",
    "g = hours * wage\n",
    "n = g - (p * g)\n",
    "print(\"This is your gross pay:\")\n",
    "print(g)\n",
    "print(\"This is your net pay:\")\n",
    "print(n)"
   ]
  }
 ],
 "metadata": {
  "kernelspec": {
   "display_name": "Python 3",
   "language": "python",
   "name": "python3"
  },
  "language_info": {
   "codemirror_mode": {
    "name": "ipython",
    "version": 3
   },
   "file_extension": ".py",
   "mimetype": "text/x-python",
   "name": "python",
   "nbconvert_exporter": "python",
   "pygments_lexer": "ipython3",
   "version": "3.8.3"
  }
 },
 "nbformat": 4,
 "nbformat_minor": 4
}
